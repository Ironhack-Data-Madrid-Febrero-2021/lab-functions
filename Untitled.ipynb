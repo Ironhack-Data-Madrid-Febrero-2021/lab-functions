{
 "cells": [
  {
   "cell_type": "code",
   "execution_count": 30,
   "metadata": {},
   "outputs": [
    {
     "name": "stdout",
     "output_type": "stream",
     "text": [
      "8.0\n",
      "[2.0, 0.0, 2.0, 0.0, 0.0, -4.0]\n",
      "4.8\n",
      "2.4\n"
     ]
    }
   ],
   "source": [
    "lista=[10,8, 10,8,8,4]\n",
    "media_lista=sum(lista)/len(lista)\n",
    "print(media_lista)\n",
    "varianza1=[]\n",
    "varianza2=[]\n",
    "varianza=[]\n",
    "desv_std=0\n",
    "for i in lista:\n",
    "    varianza1.append(i-media_lista)\n",
    "print(varianza1)\n",
    "\n",
    "for i in varianza1:\n",
    "    varianza2.append(i**2)\n",
    "    \n",
    "for i in varianza2:\n",
    "    varianza=(sum(varianza2)/(len(lista)-1))\n",
    "\n",
    "desv_std=varianza*1/2\n",
    "    \n",
    "print(varianza)\n",
    "print(desv_std)"
   ]
  },
  {
   "cell_type": "code",
   "execution_count": 34,
   "metadata": {},
   "outputs": [
    {
     "name": "stdout",
     "output_type": "stream",
     "text": [
      "2.4\n"
     ]
    }
   ],
   "source": [
    "def std_dev(lista):\n",
    "    media_lista=sum(lista)/len(lista)\n",
    "    varianza1=[]\n",
    "    varianza2=[]\n",
    "    varianza=[]\n",
    "    desv_std=0\n",
    "    for i in lista:\n",
    "        varianza1.append(i-media_lista)\n",
    "    for i in varianza1:\n",
    "        varianza2.append(i**2)\n",
    "    for i in varianza2:\n",
    "        varianza=(sum(varianza2)/(len(lista)-1))\n",
    "    return varianza*1/2\n",
    "lista=[10,8,10,8,8,4]\n",
    "print(std_dev(lista))"
   ]
  },
  {
   "cell_type": "code",
   "execution_count": null,
   "metadata": {},
   "outputs": [],
   "source": []
  }
 ],
 "metadata": {
  "kernelspec": {
   "display_name": "Python 3",
   "language": "python",
   "name": "python3"
  },
  "language_info": {
   "codemirror_mode": {
    "name": "ipython",
    "version": 3
   },
   "file_extension": ".py",
   "mimetype": "text/x-python",
   "name": "python",
   "nbconvert_exporter": "python",
   "pygments_lexer": "ipython3",
   "version": "3.8.3"
  }
 },
 "nbformat": 4,
 "nbformat_minor": 4
}
